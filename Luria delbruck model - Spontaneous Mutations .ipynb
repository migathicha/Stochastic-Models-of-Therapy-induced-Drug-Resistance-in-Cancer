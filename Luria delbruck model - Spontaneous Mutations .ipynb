{
 "cells": [
  {
   "cell_type": "markdown",
   "id": "9bc0ee7a",
   "metadata": {},
   "source": [
    "## Luria Delbruck Spontaneous Mutations"
   ]
  },
  {
   "cell_type": "code",
   "execution_count": 32,
   "id": "ca5786ee",
   "metadata": {},
   "outputs": [
    {
     "name": "stderr",
     "output_type": "stream",
     "text": [
      "/Users/mig/opt/anaconda3/lib/python3.9/site-packages/scipy/__init__.py:155: UserWarning: A NumPy version >=1.18.5 and <1.25.0 is required for this version of SciPy (detected version 1.26.2\n",
      "  warnings.warn(f\"A NumPy version >={np_minversion} and <{np_maxversion}\"\n"
     ]
    }
   ],
   "source": [
    "import numpy as np\n",
    "from tqdm import tqdm\n",
    "import matplotlib.pyplot as plt\n",
    "import math\n",
    "from scipy.integrate import quad\n",
    "from scipy.special import comb, factorial\n",
    "from scipy.optimize import minimize\n",
    "from scipy.ndimage import gaussian_filter1d\n",
    "from scipy.special import betainc\n",
    "\n",
    "np.random.seed(123)\n",
    "\n",
    "def deterministic_growth_population(initial_population, initial_time, max_time, growth_rate):\n",
    "    \"\"\"\n",
    "    The population of sensitive bacterial cells at the end time.\n",
    "    \n",
    "    Parameters:\n",
    "    max_time: End time of the simulation.\n",
    "    initial_population: Initial population size.\n",
    "    growth_rate: Growth rate per individual.\n",
    "    \n",
    "    Returns:\n",
    "    the total populations at the end time.\n",
    "    \"\"\"\n",
    "    \n",
    "    # sensitive cells grow exponentially\n",
    "    return initial_population * np.exp(growth_rate*max_time)\n",
    "\n",
    "def yule_process(initial_population, initial_time, max_time, growth_rate):\n",
    "    \"\"\"\n",
    "    The growth of mutants populations \n",
    "    from initial time until end time by Yule process.\n",
    "    \n",
    "    Parameters:\n",
    "    max_time: End time of the simulation.\n",
    "    initial_population: Initial population size.\n",
    "    growth_rate: Growth rate per individual.\n",
    "    \n",
    "    Returns:\n",
    "    times: a list of time.\n",
    "    population:  a list of populations.\n",
    "    \"\"\"\n",
    "    \n",
    "    time = initial_time\n",
    "    population = initial_population\n",
    "    times = [initial_time]\n",
    "    populations = [initial_population]\n",
    "    \n",
    "    while time < max_time:\n",
    "        \n",
    "        # generate random time with rate n*cell division rate\n",
    "        next_time = np.random.exponential(1 / (population * growth_rate))\n",
    "        \n",
    "        # population increase by 1\n",
    "        time += next_time\n",
    "        population += 1\n",
    "        \n",
    "        times.append(time)\n",
    "        populations.append(population)\n",
    "        \n",
    "    return times, populations\n",
    "\n",
    "def cumulative_intensity(t, initial_population, mutation_rate, growth_rate):\n",
    "    \"\"\"\n",
    "    Parameters:\n",
    "    t: Time.\n",
    "    initial_population: Initial population size.\n",
    "    growth_rate: Growth rate per individual.\n",
    "    \n",
    "    Returns:\n",
    "    Cumulative intensity (integral of intensity function from 0 to t).\n",
    "    \"\"\"\n",
    "    \n",
    "    # Cumulative intensity is the integral of mutation_rate * initial_population * exp(growth_rate * u) du from 0 to t\n",
    "    return (mutation_rate * initial_population / growth_rate) * (np.exp(growth_rate * t) - 1)\n",
    "\n",
    "def generate_mutation_events(end_time, initial_population, growth_rate, mutation_rate):\n",
    "    \"\"\"\n",
    "    Generate a list of time that mutation occurs.\n",
    "    \n",
    "    Parameters:\n",
    "    end_time: The time at which to stop generating mutation events.\n",
    "    initial_population: The initial population size.\n",
    "    growth_rate: The growth rate of the population.\n",
    "    mutation_rate: Mutation rate per bacterium per unit time.\n",
    "    \n",
    "    Returns:\n",
    "    A list of mutation event times.\n",
    "    \"\"\"\n",
    "    mutation_events = []\n",
    "    current_time = 0\n",
    "    \n",
    "    while current_time < end_time:\n",
    "        \n",
    "        U = np.random.uniform(0, 1)\n",
    "            \n",
    "        # Solve for the next event time using the inverse transform method\n",
    "        # Find time t such that cumulative_intensity(t) = cumulative_intensity(current_time) + log(1/U)\n",
    "        current_intensity = cumulative_intensity(current_time, initial_population, mutation_rate, growth_rate)\n",
    "        target_intensity = current_intensity + np.log(1/U)\n",
    "        \n",
    "        # Solve for the next time using the inverse of the cumulative intensity\n",
    "        next_time = (1 / growth_rate) * np.log((growth_rate * target_intensity / (mutation_rate * initial_population)) + 1)\n",
    "        \n",
    "        if next_time <= end_time:\n",
    "            mutation_events.append(next_time)\n",
    "        \n",
    "        current_time = next_time\n",
    "    \n",
    "    return mutation_events\n",
    "\n",
    "def yule_process_with_mutations(end_time, initial_population, growth_rate, mutation_rate):\n",
    "    \"\"\"\n",
    "    Mutants that occurs at set of mutation event growth with Yule process\n",
    "    \n",
    "    Parameters:\n",
    "    end_time: The time at which to evaluate the population.\n",
    "    initial_population: The initial population size.\n",
    "    growth_rate: The growth rate of the population.\n",
    "    mutation_rate: Mutation rate per bacterium per unit time.\n",
    "    \n",
    "    Returns:\n",
    "    final_population: Total number of sensitve bacterial populations.\n",
    "    total_mutant_population: Total number of mutant populations.\n",
    "    mutation_events: A list of mutation event times.\n",
    "    \"\"\"\n",
    "    # Calculate final population at the end time for original population\n",
    "    population_at_t = deterministic_growth_population(initial_population, 0, end_time, growth_rate)\n",
    "    final_population = population_at_t\n",
    "    \n",
    "    # Generate mutation events using the continuous-time inverse transform method\n",
    "    mutation_events = generate_mutation_events(end_time, initial_population, growth_rate, mutation_rate)\n",
    "    \n",
    "    # Simulate the growth of mutants initiated at mutation events\n",
    "    total_mutant_population = 0\n",
    "    for mutation_time in mutation_events:\n",
    "        \n",
    "        # Calculate the mutant population at the end time using Yule process\n",
    "        time_mutant, pop_mutant = yule_process(initial_population, mutation_time, end_time, growth_rate)\n",
    "        mutant_final_population = pop_mutant[-1]\n",
    "        total_mutant_population += mutant_final_population\n",
    "    \n",
    "    return final_population, total_mutant_population, mutation_events\n",
    "\n",
    "def run_simulations(num_simulations, end_time, initial_population, growth_rate, mutation_rate):\n",
    "    \"\"\"\n",
    "    Parameters:\n",
    "    num_simulations: The number of simulations to run.\n",
    "    end_time: The time at which to evaluate the population.\n",
    "    initial_population: The initial population size.\n",
    "    growth_rate: The growth rate of the population.\n",
    "    mutation_rate: Mutation rate per bacterium per unit time.\n",
    "    \n",
    "    Returns:\n",
    "    expected_mutant_population: Expected number of total mutant populations.\n",
    "    variance_mutant_population: Variance number of total mutant populations.\n",
    "    p0: Probability that no mutations have occured over time.\n",
    "    expected_population: Expected number of sensitive bacterial populations.\n",
    "    mutant_populations: List of number of total mutant populations for all simulations.\n",
    "    final_populations: List of number of sensitive bacterial populations for all simulations.\n",
    "    \"\"\"\n",
    "    final_populations = []\n",
    "    mutant_populations = []\n",
    "    mut_event = []\n",
    "    no_mutation = 0\n",
    "    \n",
    "    for _ in tqdm(range(num_simulations), desc=\"Running simulations\"):\n",
    "        final_population, total_mutant_population, mutation_events = yule_process_with_mutations(\n",
    "            end_time, initial_population, growth_rate, mutation_rate)\n",
    "        \n",
    "        final_populations.append(final_population)\n",
    "        mutant_populations.append(total_mutant_population)\n",
    "        mut_event.append(len(mutation_events))\n",
    "        \n",
    "        # a simulation with no mutants\n",
    "        if total_mutant_population == 0:\n",
    "            no_mutation += 1\n",
    "    \n",
    "    expected_mutant_population = np.mean(mutant_populations)\n",
    "    variance_mutant_population = np.var(mutant_populations)\n",
    "    p0 = no_mutation/num_simulations\n",
    "    expected_population = np.mean(final_populations)\n",
    "    \n",
    "    return expected_mutant_population, variance_mutant_population, p0, expected_population, mutant_populations, final_populations"
   ]
  },
  {
   "cell_type": "code",
   "execution_count": 55,
   "id": "54a7ba73",
   "metadata": {},
   "outputs": [
    {
     "name": "stderr",
     "output_type": "stream",
     "text": [
      "Running simulations: 100%|███████████| 100000/100000 [00:01<00:00, 81593.70it/s]"
     ]
    },
    {
     "name": "stdout",
     "output_type": "stream",
     "text": [
      "expected mutants =  2.83977\n",
      "variance of mutants =  2613.7250163471003\n"
     ]
    },
    {
     "name": "stderr",
     "output_type": "stream",
     "text": [
      "\n"
     ]
    }
   ],
   "source": [
    "if __name__ == \"__main__\":\n",
    "    end_time = 8\n",
    "    initial_population = 1\n",
    "    growth_rate = 1\n",
    "    mutation_rate = 0.0001\n",
    "    num_simulations = 100000\n",
    "\n",
    "    expected_mutant_population, variance_mutant_population, p0, expected_population, mutant_populations, final_populations = run_simulations(\n",
    "        num_simulations, end_time, initial_population, growth_rate, mutation_rate)\n",
    "\n",
    "print('expected mutants = ', expected_mutant_population)\n",
    "print('variance of mutants = ', variance_mutant_population)\n"
   ]
  },
  {
   "cell_type": "markdown",
   "id": "654752d9",
   "metadata": {},
   "source": [
    "#### Expected value and variance of the number of mutant populations from Mathematical model"
   ]
  },
  {
   "cell_type": "code",
   "execution_count": 56,
   "id": "02b49a22",
   "metadata": {},
   "outputs": [],
   "source": [
    "def theory_expected_mutant(mutation_rate, growth_rate, end_time):\n",
    "    \"\"\"\n",
    "    The expected number of mutant population from Luria and Delbruck's Legacy.\n",
    "    \n",
    "    Parameters:\n",
    "    end_time: The time at which to stop generating mutation events.\n",
    "    growth_rate: The growth rate of the population.\n",
    "    mutation_rate: Mutation rate per bacterium per unit time.\n",
    "    \n",
    "    Returns:\n",
    "    Expected number of mutant population from Luria and Delbruck's Legacy.\n",
    "    \"\"\"\n",
    "    return mutation_rate * end_time * np.exp(growth_rate * end_time)\n",
    "\n",
    "def theory_var_mutant(mutation_rate, growth_rate, end_time):\n",
    "    \"\"\"\n",
    "    The variance of mutant population from Luria and Delbruck's Legacy.\n",
    "    \n",
    "    Parameters:\n",
    "    end_time: The time at which to stop generating mutation events.\n",
    "    growth_rate: The growth rate of the population.\n",
    "    mutation_rate: Mutation rate per bacterium per unit time.\n",
    "    \n",
    "    Returns:\n",
    "    Variance of mutant population from Luria and Delbruck's Legacy.\n",
    "    \"\"\"\n",
    "    return (((mutation_rate * np.exp(growth_rate * end_time)) / growth_rate) * (2 * np.exp(growth_rate * end_time) - growth_rate * end_time - 2))"
   ]
  },
  {
   "cell_type": "code",
   "execution_count": 57,
   "id": "46759c09",
   "metadata": {},
   "outputs": [
    {
     "name": "stdout",
     "output_type": "stream",
     "text": [
      "expected mutants =  2.384766389633383\n",
      "variance of mutants =  1774.241146114533\n"
     ]
    }
   ],
   "source": [
    "print('expected mutants = ', theory_expected_mutant(mutation_rate, growth_rate, end_time))\n",
    "print('variance of mutants = ', theory_var_mutant(mutation_rate, growth_rate, end_time))"
   ]
  },
  {
   "cell_type": "markdown",
   "id": "5460229b",
   "metadata": {},
   "source": [
    "### Estimating mutation rate"
   ]
  },
  {
   "cell_type": "markdown",
   "id": "d97c3849",
   "metadata": {},
   "source": [
    "#### poisson approximation method ($p_0$)"
   ]
  },
  {
   "cell_type": "code",
   "execution_count": 58,
   "id": "3c4c77fa",
   "metadata": {},
   "outputs": [],
   "source": [
    "def mutation_rate_p0(growth_rate, p0, expected_population):\n",
    "    \"\"\"\n",
    "    Estimating mutation rate from poisson approximation (p0)\n",
    "    \n",
    "    Parameters:\n",
    "    p0: fraction of number of cultures with no mutation.\n",
    "    growth_rate: The growth rate of the population.\n",
    "    expected_population: Total population for bacteria.\n",
    "    \n",
    "    Return: mutation rate from poisson approximation (p0)\n",
    "    \"\"\"\n",
    "    return -growth_rate*np.log(p0)/expected_population"
   ]
  },
  {
   "cell_type": "code",
   "execution_count": 59,
   "id": "eb1d5899",
   "metadata": {},
   "outputs": [
    {
     "name": "stdout",
     "output_type": "stream",
     "text": [
      "Estimating mutation rate from poisson approximation (p0) =  0.00010045690109231654\n"
     ]
    }
   ],
   "source": [
    "print('Estimating mutation rate from poisson approximation (p0) = ', mutation_rate_p0(growth_rate, p0, expected_population))"
   ]
  },
  {
   "cell_type": "markdown",
   "id": "34b68f08",
   "metadata": {},
   "source": [
    "#### Drake's equation"
   ]
  },
  {
   "cell_type": "code",
   "execution_count": 60,
   "id": "4fcf4e92",
   "metadata": {},
   "outputs": [],
   "source": [
    "def mutation_rate_drake_equation(expected_population, mutant_population, growth_rate):\n",
    "    \"\"\"\n",
    "    Estimating mutation rate from Drake's equation\n",
    "    \n",
    "    Parameters:\n",
    "    expected_population: Total population for bacteria.\n",
    "    mutant_population: Total population of mutants.\n",
    "    growth_rate: The growth rate of the population.\n",
    "    \n",
    "    Return: mutation rate from Drake's equation\n",
    "    \"\"\"\n",
    "    \n",
    "    # the fraction of mutants and the sensitive cells\n",
    "    f = np.mean(mutant_population)/expected_population\n",
    "    \n",
    "    return growth_rate*f/np.log(np.mean(expected_population))"
   ]
  },
  {
   "cell_type": "code",
   "execution_count": 61,
   "id": "feae27ed",
   "metadata": {},
   "outputs": [
    {
     "name": "stdout",
     "output_type": "stream",
     "text": [
      "Estimating mutation rate from Drakes equation =  0.00011907958835483951\n"
     ]
    }
   ],
   "source": [
    "print('Estimating mutation rate from Drakes equation = ', mutation_rate_drake_equation(expected_population, expected_mutant_population, growth_rate))"
   ]
  },
  {
   "cell_type": "markdown",
   "id": "6b257bef",
   "metadata": {},
   "source": [
    "#### Maximum Likelihood Method - Proportion of Cultures with Mutants"
   ]
  },
  {
   "cell_type": "code",
   "execution_count": 62,
   "id": "c65e255b",
   "metadata": {},
   "outputs": [],
   "source": [
    "def mutation_rate_ML1(expected_population, mutant_population, num_simulations):\n",
    "    \"\"\"\n",
    "    Estimating mutation rate from Maximum Likelihood Method \n",
    "    Proportion of Cultures with Mutants\n",
    "    \n",
    "    Parameters:\n",
    "    expected_population: Total population for bacteria.\n",
    "    mutant_population: Total population of mutants.\n",
    "    num_simulations: Number of simulations.\n",
    "    \n",
    "    Return: mutation rate from Maximum Likelihood Method \n",
    "    Proportion of Cultures with Mutants\n",
    "    \"\"\"\n",
    "    X = 0\n",
    "    # count number of simultaions with no mutation\n",
    "    for k in mutant_population:\n",
    "        if k == 0:\n",
    "            X += 1\n",
    "    N = expected_population\n",
    "    C = num_simulations\n",
    "\n",
    "    return -np.log(X/C)/N"
   ]
  },
  {
   "cell_type": "code",
   "execution_count": 63,
   "id": "471240f4",
   "metadata": {},
   "outputs": [
    {
     "name": "stdout",
     "output_type": "stream",
     "text": [
      "Estimating mutation rate from Maximum Likelihood Method - Proportion of Cultures with Mutants =  0.00010045690109231654\n"
     ]
    }
   ],
   "source": [
    "print('Estimating mutation rate from Maximum Likelihood Method - Proportion of Cultures with Mutants = ', mutation_rate_ML1(expected_population, mutant_populations, num_simulations))"
   ]
  },
  {
   "cell_type": "markdown",
   "id": "1f80629e",
   "metadata": {},
   "source": [
    "#### Maximum Likelihood Method - Full Mutant Distribution \n",
    "\n",
    "We vary the mutation rate and plot the relative error.\n",
    "We choose 2000 as the upper bound for the mutant population."
   ]
  },
  {
   "cell_type": "code",
   "execution_count": 78,
   "id": "f78408b5",
   "metadata": {},
   "outputs": [
    {
     "name": "stderr",
     "output_type": "stream",
     "text": [
      "Running simulations: 100%|█████████████████| 5000/5000 [00:10<00:00, 471.49it/s]\n",
      "/var/folders/s3/bs4t_w8j12j88rywpg85yqr40000gn/T/ipykernel_13912/2971797521.py:33: DeprecationWarning: Conversion of an array with ndim > 0 to a scalar is deprecated, and will error in future. Ensure you extract a single element from your array before performing this operation. (Deprecated NumPy 1.25.)\n",
      "  pmf_func[0] = math.exp(m)\n",
      "/var/folders/s3/bs4t_w8j12j88rywpg85yqr40000gn/T/ipykernel_13912/2971797521.py:38: DeprecationWarning: Conversion of an array with ndim > 0 to a scalar is deprecated, and will error in future. Ensure you extract a single element from your array before performing this operation. (Deprecated NumPy 1.25.)\n",
      "  pmf_func[k] = sum\n"
     ]
    },
    {
     "name": "stdout",
     "output_type": "stream",
     "text": [
      "260220812.85568535\n",
      "260220812.69327253\n",
      "362348118.3336986\n",
      "362348118.3336986\n",
      "230305184.0156671\n",
      "230305183.8514103\n",
      "126614404.6563562\n",
      "126614404.3441144\n",
      "121496039.8752694\n",
      "121496040.0854245\n",
      "209590071.39578176\n",
      "209590071.2264254\n",
      "130503842.84387028\n",
      "130503842.50306125\n",
      "120650667.99908617\n",
      "120650667.9773407\n",
      "120638763.44047055\n",
      "120638763.4364948\n",
      "120638363.53599714\n",
      "120638363.53609897\n",
      "120638363.27583382\n",
      "120638363.27583303\n"
     ]
    },
    {
     "name": "stderr",
     "output_type": "stream",
     "text": [
      "Running simulations: 100%|█████████████████| 5000/5000 [00:05<00:00, 989.81it/s]\n"
     ]
    },
    {
     "name": "stdout",
     "output_type": "stream",
     "text": [
      "337199397.6510213\n",
      "337199397.42036045\n",
      "513428859.1982589\n",
      "513428859.1982589\n",
      "298943973.89533687\n",
      "298943973.6611037\n",
      "174643759.27826986\n",
      "174643760.25497207\n",
      "276316852.9853134\n",
      "276316852.74407583\n",
      "185033882.29492268\n",
      "185033881.8697601\n",
      "163266464.13260803\n",
      "163266464.0581473\n",
      "513428859.1982589\n",
      "513428859.1982589\n",
      "163125344.79457965\n",
      "163125344.778004\n",
      "163118598.02069983\n",
      "163118598.02198642\n",
      "163118558.07703286\n",
      "163118558.07701212\n",
      "163118558.06684005\n",
      "163118558.0668409\n"
     ]
    },
    {
     "name": "stderr",
     "output_type": "stream",
     "text": [
      "Running simulations: 100%|████████████████| 5000/5000 [00:02<00:00, 2149.27it/s]\n"
     ]
    },
    {
     "name": "stdout",
     "output_type": "stream",
     "text": [
      "318279064.84703547\n",
      "318279064.6016804\n",
      "544136326.8536503\n",
      "544136326.8536503\n",
      "281721777.9530041\n",
      "281721777.701786\n",
      "331006381.2885584\n",
      "331006385.6887102\n",
      "212072976.09186834\n",
      "212072975.75795248\n",
      "161502180.2123654\n",
      "161502179.9858694\n",
      "165052646.77929908\n",
      "165052647.341051\n",
      "161502180.2123654\n",
      "161502179.9858694\n",
      "544136326.8536503\n",
      "544136326.8536503\n",
      "160576996.3061819\n",
      "160576996.5523153\n",
      "159252354.9794964\n",
      "159252354.92103708\n",
      "544136326.8536503\n",
      "544136326.8536503\n",
      "159334161.18244258\n",
      "159334161.26630247\n",
      "159137695.51950175\n",
      "159137695.5185328\n",
      "159137666.5510201\n",
      "159137666.55108094\n",
      "159137666.43600273\n",
      "159137666.4360027\n"
     ]
    },
    {
     "name": "stderr",
     "output_type": "stream",
     "text": [
      "Running simulations: 100%|████████████████| 5000/5000 [00:01<00:00, 4464.13it/s]\n"
     ]
    },
    {
     "name": "stdout",
     "output_type": "stream",
     "text": [
      "279406705.8274212\n",
      "279406705.5769665\n",
      "551617782.6096871\n",
      "551617782.6096871\n",
      "245629304.82961816\n",
      "245629304.5696657\n",
      "484248733.5944412\n",
      "484248735.3281966\n",
      "212527300.14697826\n",
      "212527299.85805336\n",
      "194877917.2485982\n",
      "194877916.93184862\n",
      "183406954.36230662\n",
      "183406954.02582607\n",
      "146312140.46965176\n",
      "146312140.6547075\n",
      "203643073.2851508\n",
      "203643072.98316\n",
      "145772057.67544562\n",
      "145772057.56599784\n",
      "145175581.5346798\n",
      "145175581.513751\n",
      "145156784.55260447\n",
      "145156784.55590254\n",
      "145156324.0183058\n",
      "145156324.0182259\n",
      "145156323.7457936\n",
      "145156323.7457927\n"
     ]
    },
    {
     "name": "stderr",
     "output_type": "stream",
     "text": [
      "Running simulations: 100%|████████████████| 5000/5000 [00:00<00:00, 9077.36it/s]\n"
     ]
    },
    {
     "name": "stdout",
     "output_type": "stream",
     "text": [
      "235055583.64248684\n",
      "235055583.38739964\n",
      "555637669.2845768\n",
      "555637669.2845768\n",
      "203633155.282571\n",
      "203633155.01402646\n",
      "532411428.5758592\n",
      "532411429.1043323\n",
      "193218158.88685507\n",
      "193218158.61038816\n",
      "184140124.8082706\n",
      "184140124.52341354\n",
      "128052780.8926474\n",
      "128052780.9499315\n",
      "140375515.15359783\n",
      "140375514.872596\n",
      "127875201.87550639\n",
      "127875201.86998868\n",
      "127873365.34979704\n",
      "127873365.34942062\n",
      "127873356.82840706\n",
      "127873356.82840952\n",
      "127873356.82804462\n",
      "127873356.82804427\n"
     ]
    },
    {
     "name": "stderr",
     "output_type": "stream",
     "text": [
      "Running simulations: 100%|███████████████| 5000/5000 [00:00<00:00, 18787.75it/s]\n"
     ]
    },
    {
     "name": "stdout",
     "output_type": "stream",
     "text": [
      "186569816.78868318\n",
      "186569816.53511295\n",
      "557089295.0282907\n",
      "557089295.0282907\n",
      "158642219.81591085\n",
      "158642219.55404484\n",
      "547374038.735425\n",
      "547374038.9370826\n",
      "151267854.883635\n",
      "151267854.61993653\n",
      "144681243.83681983\n",
      "144681243.57266533\n",
      "126780638.14627449\n",
      "126780638.77685298\n",
      "126780830.00243738\n",
      "126780829.75578646\n",
      "110202269.3203187\n",
      "110202269.303644\n",
      "111444116.766249\n",
      "111444116.90022461\n",
      "110176424.64165539\n",
      "110176424.64080864\n",
      "110176360.15750775\n",
      "110176360.15753117\n",
      "110176360.10775732\n",
      "110176360.10775755\n"
     ]
    },
    {
     "name": "stderr",
     "output_type": "stream",
     "text": [
      "Running simulations: 100%|███████████████| 5000/5000 [00:00<00:00, 40816.35it/s]\n"
     ]
    },
    {
     "name": "stdout",
     "output_type": "stream",
     "text": [
      "134717993.3884633\n",
      "134717993.16766676\n",
      "558094266.697013\n",
      "558094266.697013\n",
      "115510723.78123662\n",
      "115510723.57113291\n",
      "553031915.3017796\n",
      "553031915.3986053\n",
      "111209220.03200054\n",
      "111209219.82776503\n",
      "109545188.26117526\n",
      "109545188.81605828\n",
      "99493262.50829843\n",
      "99493262.34054181\n",
      "557374792.2283252\n",
      "557374792.2486559\n",
      "96875899.40929048\n",
      "96875899.25917567\n",
      "103585731.61838914\n",
      "103585732.0481672\n",
      "90919332.52137558\n",
      "90919332.49600145\n",
      "90861543.93704543\n",
      "90861543.95443746\n",
      "90820515.05164674\n",
      "90820515.05069654\n",
      "90820386.10241328\n",
      "90820386.10238047\n",
      "90820385.94683969\n",
      "90820385.94683942\n"
     ]
    },
    {
     "name": "stderr",
     "output_type": "stream",
     "text": [
      "Running simulations: 100%|███████████████| 5000/5000 [00:00<00:00, 65215.63it/s]\n"
     ]
    },
    {
     "name": "stdout",
     "output_type": "stream",
     "text": [
      "85952194.44178987\n",
      "85952194.2937964\n",
      "558094266.6970145\n",
      "558094266.6970145\n",
      "77772970.88853502\n",
      "77772970.75990081\n",
      "364831129.6135727\n",
      "364831133.5319729\n",
      "68402112.42632505\n",
      "68402112.3946767\n",
      "68436750.91867907\n",
      "68436750.95730527\n",
      "68123137.93693537\n",
      "68123137.93628657\n",
      "68123036.85176924\n",
      "68123036.8518408\n",
      "68123035.610357\n",
      "68123035.61035682\n",
      "68123035.61035323\n",
      "68123035.6103534\n",
      "68123035.61035316\n",
      "68123035.61035304\n"
     ]
    },
    {
     "name": "stderr",
     "output_type": "stream",
     "text": [
      "Running simulations: 100%|██████████████| 5000/5000 [00:00<00:00, 102444.02it/s]\n"
     ]
    },
    {
     "name": "stdout",
     "output_type": "stream",
     "text": [
      "49361119.71433711\n",
      "49361119.64716954\n",
      "558205930.2157626\n",
      "558205930.2157626\n",
      "47695282.21496303\n",
      "47695282.15977287\n",
      "47388225.713183984\n",
      "47388225.793446325\n",
      "45685239.2760093\n",
      "45685239.25534821\n",
      "45515213.527983174\n",
      "45515213.53924972\n",
      "45462651.693596646\n",
      "45462651.69236107\n",
      "45461960.08585387\n",
      "45461960.08578914\n",
      "45461958.19380137\n",
      "45461958.19380179\n",
      "45461958.19375311\n",
      "45461958.19375307\n"
     ]
    },
    {
     "name": "stderr",
     "output_type": "stream",
     "text": [
      "Running simulations: 100%|██████████████| 5000/5000 [00:00<00:00, 112468.33it/s]\n"
     ]
    },
    {
     "name": "stdout",
     "output_type": "stream",
     "text": [
      "31064987.7430948\n",
      "31064987.721842952\n",
      "558094266.6970179\n",
      "558094266.6970179\n",
      "30897865.842234764\n",
      "30897865.825156435\n",
      "30650447.233286954\n",
      "30650447.237799983\n",
      "30636429.837759268\n",
      "30636429.837078\n",
      "30636085.559482314\n",
      "30636085.55945963\n",
      "30636085.181045122\n",
      "30636085.181045264\n",
      "30636085.18102813\n",
      "30636085.181028165\n"
     ]
    },
    {
     "data": {
      "image/png": "[encoded data removed]",
      "text/plain": [
       "<Figure size 640x480 with 1 Axes>"
      ]
     },
     "metadata": {},
     "output_type": "display_data"
    }
   ],
   "source": [
    "def pmf_spec_yule(end_time, initial_population, growth_rate, count):\n",
    "    \"\"\"\n",
    "    The probability mass function (PMF) \n",
    "    for the Yule process\n",
    "    \n",
    "    Parameters:\n",
    "    end_time: Total time for population growth\n",
    "    initial_population: Starting population size\n",
    "    growth_rate: Growth rate of the population\n",
    "    count: Number of individuals in the population\n",
    "    \"\"\"\n",
    "    return np.exp(growth_rate * end_time) * (1 - betainc(2, count, np.exp(- growth_rate * end_time)))/(count*(count+1)*(np.exp(growth_rate * end_time) - 1))\n",
    "def pmf(end_time, initial_population, mu, growth_rate):\n",
    "    \"\"\"\n",
    "    Compute the PMF using cumulative intensity\n",
    "    \n",
    "    Parameters:\n",
    "    end_time: Total time for population growth  \n",
    "    initial_population: Starting population size  \n",
    "    mu: Mutation rate  \n",
    "    growth_rate: Growth rate of the population  \n",
    "\n",
    "    Returns:\n",
    "    pmf_func: Probability mass function (PMF) for mutant population size\n",
    "    \"\"\"\n",
    "    \n",
    "    # Cumulative intensity function\n",
    "    ci = cumulative_intensity(end_time, initial_population, mu, growth_rate)\n",
    "    pmf_func = np.zeros(2000)\n",
    "    pmf_func1 = np.zeros(2000)\n",
    "\n",
    "    m = - ci\n",
    "    pmf_func[0] = math.exp(m)\n",
    "    for k in range(1, 2000):\n",
    "        sum = 0\n",
    "        for i in range(0, k):\n",
    "            sum += ci * (k - i) / k * pmf_func[i] * pmf_spec_yule(end_time, initial_population, growth_rate, k - i)\n",
    "        pmf_func[k] = sum\n",
    "    return pmf_func\n",
    "\n",
    "def log_likelihood(mu, data, end_time, initial_population, growth_rate, h):\n",
    "    \"\"\"\n",
    "    Compute the log-likelihood for given mutation rate\n",
    "    \n",
    "    Parameters:\n",
    "    mu: Mutation rate  \n",
    "    data: Observed mutant population sizes  \n",
    "    end_time: Total time for population growth  \n",
    "    initial_population: Starting population size  \n",
    "    growth_rate: Growth rate of the population  \n",
    "    h: Histogram of mutant population counts  \n",
    "   \n",
    "    Returns:\n",
    "    Negative log-likelihood for optimization  \n",
    "    \"\"\"\n",
    "\n",
    "    pmf_func = pmf(end_time, initial_population,mu, growth_rate)\n",
    "    pmf_func = np.maximum(pmf_func, 1e-10)\n",
    "    likelihood = 0\n",
    "    for k in data:\n",
    "        if k < len(pmf_func):\n",
    "            likelihood += h[k] * np.log(pmf_func[k] + 1e-10)  # Add epsilon to avoid log(0)\n",
    "        else:\n",
    "            likelihood += -np.inf  # Assign very low likelihood for out-of-range data\n",
    "    print(-likelihood)\n",
    "    return -likelihood  # Return negative for minimization\n",
    "\n",
    "mutation_rate = [10 ** i for i in np.linspace(-2, -5, 10)]\n",
    "num_simulations = 5000\n",
    "\n",
    "mut_rate = np.zeros(len(mutation_rate))\n",
    "\n",
    "for i in range(len(mutation_rate)):\n",
    "    # run simulation for each mutation rate\n",
    "    expected_mutant_population, variance_mutant_population, p0, expected_population, mutant_populations, final_populations = run_simulations(\n",
    "        num_simulations, end_time, initial_population, growth_rate, mutation_rate[i])\n",
    "    h = np.zeros(2000)\n",
    "    \n",
    "    for j in range(num_simulations):\n",
    "        for q in range(len(h)):\n",
    "            if q == mutant_populations[j]:\n",
    "                h[q] += 1\n",
    "    h_smooth = h[:2000] * num_simulations\n",
    "  \n",
    "    freq_m = gaussian_filter1d(h_smooth, sigma=0.45)\n",
    "\n",
    "    data = range(2000)\n",
    "    \n",
    "    # Choose initial guess\n",
    "    mu_initial = 10 ** (-5)\n",
    "\n",
    "    # Perform MLE using scipy.optimize.minimize\n",
    "    result = minimize(\n",
    "       lambda log_mu: log_likelihood(np.exp(log_mu), data, end_time, initial_population, growth_rate, freq_m),\n",
    "       x0=[np.log(mu_initial)],\n",
    "       bounds=[(np.log(1e-10), np.log(1))],  \n",
    "       method='L-BFGS-B'\n",
    "       )\n",
    "    mut_rate[i] = np.exp(result.x[0])\n",
    "\n",
    "plt.plot(mutation_rate, mut_rate,'m*')\n",
    "plt.title(\"ML mutation rate vs real mutation rate\")\n",
    "plt.ylabel(\"ML mutation rate\")\n",
    "plt.xlabel(\"real mutation rate\")\n",
    "plt.xscale('log')\n",
    "plt.yscale('log')\n",
    "plt.grid(True)"
   ]
  },
  {
   "cell_type": "code",
   "execution_count": 79,
   "id": "dabebcdd",
   "metadata": {},
   "outputs": [
    {
     "data": {
      "image/png": "[encoded data removed]",
      "text/plain": [
       "<Figure size 640x480 with 1 Axes>"
      ]
     },
     "metadata": {},
     "output_type": "display_data"
    }
   ],
   "source": [
    "plt.plot(mutation_rate, abs(mut_rate-mutation_rate)/np.array(mutation_rate),'o-',markersize =12,color='firebrick')\n",
    "plt.ylabel(\"Mutation rate error (simulation)\", fontname='Times New Roman', fontsize=20)\n",
    "plt.xlabel(\"Input mutation rate\", fontname='Times New Roman', fontsize=20)\n",
    "plt.xscale('log')\n",
    "plt.xticks(fontsize=18, fontname=\"Times New Roman\")\n",
    "plt.yticks(fontsize=18, fontname=\"Times New Roman\")\n",
    "plt.grid(True)\n",
    "plt.savefig(\"ML_relative_error_plot.svg\", format='svg')"
   ]
  },
  {
   "cell_type": "code",
   "execution_count": null,
   "id": "52a146dc",
   "metadata": {},
   "outputs": [],
   "source": []
  }
 ],
 "metadata": {
  "kernelspec": {
   "display_name": "Python 3 (ipykernel)",
   "language": "python",
   "name": "python3"
  },
  "language_info": {
   "codemirror_mode": {
    "name": "ipython",
    "version": 3
   },
   "file_extension": ".py",
   "mimetype": "text/x-python",
   "name": "python",
   "nbconvert_exporter": "python",
   "pygments_lexer": "ipython3",
   "version": "3.9.13"
  }
 },
 "nbformat": 4,
 "nbformat_minor": 5
}
