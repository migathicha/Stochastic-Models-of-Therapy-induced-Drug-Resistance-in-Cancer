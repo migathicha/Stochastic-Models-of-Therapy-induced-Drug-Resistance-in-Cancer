{
 "cells": [
  {
   "cell_type": "markdown",
   "id": "9bc0ee7a",
   "metadata": {},
   "source": [
    "## Luria Delbruck Spontaneous Mutations"
   ]
  },
  {
   "cell_type": "code",
   "execution_count": 2,
   "id": "ca5786ee",
   "metadata": {},
   "outputs": [
    {
     "name": "stderr",
     "output_type": "stream",
     "text": [
      "/Users/mig/opt/anaconda3/lib/python3.9/site-packages/scipy/__init__.py:155: UserWarning: A NumPy version >=1.18.5 and <1.25.0 is required for this version of SciPy (detected version 1.26.2\n",
      "  warnings.warn(f\"A NumPy version >={np_minversion} and <{np_maxversion}\"\n"
     ]
    }
   ],
   "source": [
    "import numpy as np\n",
    "from tqdm import tqdm\n",
    "import matplotlib.pyplot as plt\n",
    "import math\n",
    "from scipy.integrate import quad\n",
    "from scipy.special import comb, factorial\n",
    "from scipy.optimize import minimize\n",
    "from scipy.ndimage import gaussian_filter1d\n",
    "from scipy.special import betainc\n",
    "\n",
    "np.random.seed(123)\n",
    "\n",
    "def deterministic_growth_population(initial_population, initial_time, max_time, growth_rate):\n",
    "    \"\"\"\n",
    "    The population of sensitive bacterial cells at the end time.\n",
    "    \n",
    "    Parameters:\n",
    "    max_time: End time of the simulation.\n",
    "    initial_population: Initial population size.\n",
    "    growth_rate: Growth rate per individual.\n",
    "    \n",
    "    Returns:\n",
    "    the total populations at the end time.\n",
    "    \"\"\"\n",
    "    \n",
    "    # sensitive cells grow exponentially\n",
    "    return initial_population * np.exp(growth_rate*max_time)\n",
    "\n",
    "def yule_process(initial_population, initial_time, max_time, growth_rate):\n",
    "    \"\"\"\n",
    "    The growth of mutants populations \n",
    "    from initial time until end time by Yule process.\n",
    "    \n",
    "    Parameters:\n",
    "    max_time: End time of the simulation.\n",
    "    initial_population: Initial population size.\n",
    "    growth_rate: Growth rate per individual.\n",
    "    \n",
    "    Returns:\n",
    "    times: a list of time.\n",
    "    population:  a list of populations.\n",
    "    \"\"\"\n",
    "    \n",
    "    time = initial_time\n",
    "    population = initial_population\n",
    "    times = [initial_time]\n",
    "    populations = [initial_population]\n",
    "    \n",
    "    while time < max_time:\n",
    "        \n",
    "        # generate random time with rate n*cell division rate\n",
    "        next_time = np.random.exponential(1 / (population * growth_rate))\n",
    "        \n",
    "        # population increase by 1\n",
    "        time += next_time\n",
    "        population += 1\n",
    "        \n",
    "        times.append(time)\n",
    "        populations.append(population)\n",
    "        \n",
    "    return times, populations\n",
    "\n",
    "def cumulative_intensity(t, initial_population, mutation_rate, growth_rate):\n",
    "    \"\"\"\n",
    "    Parameters:\n",
    "    t: Time.\n",
    "    initial_population: Initial population size.\n",
    "    growth_rate: Growth rate per individual.\n",
    "    \n",
    "    Returns:\n",
    "    Cumulative intensity (integral of intensity function from 0 to t).\n",
    "    \"\"\"\n",
    "    \n",
    "    # Cumulative intensity is the integral of mutation_rate * initial_population * exp(growth_rate * u) du from 0 to t\n",
    "    return (mutation_rate * initial_population / growth_rate) * (np.exp(growth_rate * t) - 1)\n",
    "\n",
    "def generate_mutation_events(end_time, initial_population, growth_rate, mutation_rate):\n",
    "    \"\"\"\n",
    "    Generate a list of time that mutation occurs.\n",
    "    \n",
    "    Parameters:\n",
    "    end_time: The time at which to stop generating mutation events.\n",
    "    initial_population: The initial population size.\n",
    "    growth_rate: The growth rate of the population.\n",
    "    mutation_rate: Mutation rate per bacterium per unit time.\n",
    "    \n",
    "    Returns:\n",
    "    A list of mutation event times.\n",
    "    \"\"\"\n",
    "    mutation_events = []\n",
    "    current_time = 0\n",
    "    \n",
    "    while current_time < end_time:\n",
    "        \n",
    "        U = np.random.uniform(0, 1)\n",
    "            \n",
    "        # Solve for the next event time using the inverse transform method\n",
    "        # Find time t such that cumulative_intensity(t) = cumulative_intensity(current_time) + log(1/U)\n",
    "        current_intensity = cumulative_intensity(current_time, initial_population, mutation_rate, growth_rate)\n",
    "        target_intensity = current_intensity + np.log(1/U)\n",
    "        \n",
    "        # Solve for the next time using the inverse of the cumulative intensity\n",
    "        next_time = (1 / growth_rate) * np.log((growth_rate * target_intensity / (mutation_rate * initial_population)) + 1)\n",
    "        \n",
    "        if next_time <= end_time:\n",
    "            mutation_events.append(next_time)\n",
    "        \n",
    "        current_time = next_time\n",
    "    \n",
    "    return mutation_events\n",
    "\n",
    "def yule_process_with_mutations(end_time, initial_population, growth_rate, mutation_rate):\n",
    "    \"\"\"\n",
    "    Mutants that occurs at set of mutation event growth with Yule process\n",
    "    \n",
    "    Parameters:\n",
    "    end_time: The time at which to evaluate the population.\n",
    "    initial_population: The initial population size.\n",
    "    growth_rate: The growth rate of the population.\n",
    "    mutation_rate: Mutation rate per bacterium per unit time.\n",
    "    \n",
    "    Returns:\n",
    "    final_population: Total number of sensitve bacterial populations.\n",
    "    total_mutant_population: Total number of mutant populations.\n",
    "    mutation_events: A list of mutation event times.\n",
    "    \"\"\"\n",
    "    # Calculate final population at the end time for original population\n",
    "    population_at_t = deterministic_growth_population(initial_population, 0, end_time, growth_rate)\n",
    "    final_population = population_at_t\n",
    "    \n",
    "    # Generate mutation events using the continuous-time inverse transform method\n",
    "    mutation_events = generate_mutation_events(end_time, initial_population, growth_rate, mutation_rate)\n",
    "    \n",
    "    # Simulate the growth of mutants initiated at mutation events\n",
    "    total_mutant_population = 0\n",
    "    for mutation_time in mutation_events:\n",
    "        \n",
    "        # Calculate the mutant population at the end time using Yule process\n",
    "        time_mutant, pop_mutant = yule_process(initial_population, mutation_time, end_time, growth_rate)\n",
    "        mutant_final_population = pop_mutant[-1]\n",
    "        total_mutant_population += mutant_final_population\n",
    "    \n",
    "    return final_population, total_mutant_population, mutation_events\n",
    "\n",
    "def run_simulations(num_simulations, end_time, initial_population, growth_rate, mutation_rate):\n",
    "    \"\"\"\n",
    "    Parameters:\n",
    "    num_simulations: The number of simulations to run.\n",
    "    end_time: The time at which to evaluate the population.\n",
    "    initial_population: The initial population size.\n",
    "    growth_rate: The growth rate of the population.\n",
    "    mutation_rate: Mutation rate per bacterium per unit time.\n",
    "    \n",
    "    Returns:\n",
    "    expected_mutant_population: Expected number of total mutant populations.\n",
    "    variance_mutant_population: Variance number of total mutant populations.\n",
    "    p0: Probability that no mutations have occured over time.\n",
    "    expected_population: Expected number of sensitive bacterial populations.\n",
    "    mutant_populations: List of number of total mutant populations for all simulations.\n",
    "    final_populations: List of number of sensitive bacterial populations for all simulations.\n",
    "    \"\"\"\n",
    "    final_populations = []\n",
    "    mutant_populations = []\n",
    "    mut_event = []\n",
    "    no_mutation = 0\n",
    "    \n",
    "    for _ in tqdm(range(num_simulations), desc=\"Running simulations\"):\n",
    "        final_population, total_mutant_population, mutation_events = yule_process_with_mutations(\n",
    "            end_time, initial_population, growth_rate, mutation_rate)\n",
    "        \n",
    "        final_populations.append(final_population)\n",
    "        mutant_populations.append(total_mutant_population)\n",
    "        mut_event.append(len(mutation_events))\n",
    "        \n",
    "        # a simulation with no mutants\n",
    "        if total_mutant_population == 0:\n",
    "            no_mutation += 1\n",
    "    \n",
    "    expected_mutant_population = np.mean(mutant_populations)\n",
    "    variance_mutant_population = np.var(mutant_populations)\n",
    "    p0 = no_mutation/num_simulations\n",
    "    expected_population = np.mean(final_populations)\n",
    "    \n",
    "    return expected_mutant_population, variance_mutant_population, p0, expected_population, mutant_populations, final_populations"
   ]
  },
  {
   "cell_type": "code",
   "execution_count": 3,
   "id": "54a7ba73",
   "metadata": {},
   "outputs": [
    {
     "name": "stderr",
     "output_type": "stream",
     "text": [
      "Running simulations: 100%|██████████| 100000/100000 [00:00<00:00, 128142.23it/s]"
     ]
    },
    {
     "name": "stdout",
     "output_type": "stream",
     "text": [
      "expected mutants =  2.83977\n",
      "variance of mutants =  2613.7250163471003\n"
     ]
    },
    {
     "name": "stderr",
     "output_type": "stream",
     "text": [
      "\n"
     ]
    }
   ],
   "source": [
    "if __name__ == \"__main__\":\n",
    "    end_time = 8\n",
    "    initial_population = 1\n",
    "    growth_rate = 1\n",
    "    mutation_rate = 0.0001\n",
    "    num_simulations = 100000\n",
    "\n",
    "    expected_mutant_population, variance_mutant_population, p0, expected_population, mutant_populations, final_populations = run_simulations(\n",
    "        num_simulations, end_time, initial_population, growth_rate, mutation_rate)\n",
    "\n",
    "print('expected mutants = ', expected_mutant_population)\n",
    "print('variance of mutants = ', variance_mutant_population)\n"
   ]
  },
  {
   "cell_type": "markdown",
   "id": "654752d9",
   "metadata": {},
   "source": [
    "#### Expected value and variance of the number of mutant populations from Mathematical model"
   ]
  },
  {
   "cell_type": "code",
   "execution_count": 4,
   "id": "02b49a22",
   "metadata": {},
   "outputs": [],
   "source": [
    "def theory_expected_mutant(mutation_rate, growth_rate, end_time):\n",
    "    \"\"\"\n",
    "    The expected number of mutant population from Luria and Delbruck's Legacy.\n",
    "    \n",
    "    Parameters:\n",
    "    end_time: The time at which to stop generating mutation events.\n",
    "    growth_rate: The growth rate of the population.\n",
    "    mutation_rate: Mutation rate per bacterium per unit time.\n",
    "    \n",
    "    Returns:\n",
    "    Expected number of mutant population from Luria and Delbruck's Legacy.\n",
    "    \"\"\"\n",
    "    return mutation_rate * end_time * np.exp(growth_rate * end_time)\n",
    "\n",
    "def theory_var_mutant(mutation_rate, growth_rate, end_time):\n",
    "    \"\"\"\n",
    "    The variance of mutant population from Luria and Delbruck's Legacy.\n",
    "    \n",
    "    Parameters:\n",
    "    end_time: The time at which to stop generating mutation events.\n",
    "    growth_rate: The growth rate of the population.\n",
    "    mutation_rate: Mutation rate per bacterium per unit time.\n",
    "    \n",
    "    Returns:\n",
    "    Variance of mutant population from Luria and Delbruck's Legacy.\n",
    "    \"\"\"\n",
    "    return (((mutation_rate * np.exp(growth_rate * end_time)) / growth_rate) * (2 * np.exp(growth_rate * end_time) - growth_rate * end_time - 2))"
   ]
  },
  {
   "cell_type": "code",
   "execution_count": 5,
   "id": "46759c09",
   "metadata": {},
   "outputs": [
    {
     "name": "stdout",
     "output_type": "stream",
     "text": [
      "expected mutants =  2.384766389633383\n",
      "variance of mutants =  1774.241146114533\n"
     ]
    }
   ],
   "source": [
    "print('expected mutants = ', theory_expected_mutant(mutation_rate, growth_rate, end_time))\n",
    "print('variance of mutants = ', theory_var_mutant(mutation_rate, growth_rate, end_time))"
   ]
  },
  {
   "cell_type": "markdown",
   "id": "48e5ad31",
   "metadata": {},
   "source": [
    "### Estimating mutation rate"
   ]
  },
  {
   "cell_type": "markdown",
   "id": "a3f077dd",
   "metadata": {},
   "source": [
    "#### poisson approximation method ($p_0$)"
   ]
  },
  {
   "cell_type": "code",
   "execution_count": 6,
   "id": "e63bdf84",
   "metadata": {},
   "outputs": [],
   "source": [
    "def mutation_rate_p0(growth_rate, p0, expected_population):\n",
    "    \"\"\"\n",
    "    Estimating mutation rate from poisson approximation (p0)\n",
    "    \n",
    "    Parameters:\n",
    "    p0: fraction of number of cultures with no mutation.\n",
    "    growth_rate: The growth rate of the population.\n",
    "    expected_population: Total population for bacteria.\n",
    "    \n",
    "    Return: mutation rate from poisson approximation (p0)\n",
    "    \"\"\"\n",
    "    return -growth_rate*np.log(p0)/expected_population"
   ]
  },
  {
   "cell_type": "code",
   "execution_count": 7,
   "id": "99d65d02",
   "metadata": {},
   "outputs": [
    {
     "name": "stdout",
     "output_type": "stream",
     "text": [
      "Estimating mutation rate from poisson approximation (p0) =  0.00010045690109231654\n"
     ]
    }
   ],
   "source": [
    "print('Estimating mutation rate from poisson approximation (p0) = ', mutation_rate_p0(growth_rate, p0, expected_population))"
   ]
  },
  {
   "cell_type": "markdown",
   "id": "33830d20",
   "metadata": {},
   "source": [
    "#### Drake's equation"
   ]
  },
  {
   "cell_type": "code",
   "execution_count": 8,
   "id": "913284d6",
   "metadata": {},
   "outputs": [],
   "source": [
    "def mutation_rate_drake_equation(expected_population, mutant_population, growth_rate):\n",
    "    \"\"\"\n",
    "    Estimating mutation rate from Drake's equation\n",
    "    \n",
    "    Parameters:\n",
    "    expected_population: Total population for bacteria.\n",
    "    mutant_population: Total population of mutants.\n",
    "    growth_rate: The growth rate of the population.\n",
    "    \n",
    "    Return: mutation rate from Drake's equation\n",
    "    \"\"\"\n",
    "    \n",
    "    # the fraction of mutants and the sensitive cells\n",
    "    f = np.mean(mutant_population)/expected_population\n",
    "    \n",
    "    return growth_rate*f/np.log(np.mean(expected_population))"
   ]
  },
  {
   "cell_type": "code",
   "execution_count": 9,
   "id": "e3fc7008",
   "metadata": {},
   "outputs": [
    {
     "name": "stdout",
     "output_type": "stream",
     "text": [
      "Estimating mutation rate from Drakes equation =  0.00011907958835483951\n"
     ]
    }
   ],
   "source": [
    "print('Estimating mutation rate from Drakes equation = ', mutation_rate_drake_equation(expected_population, expected_mutant_population, growth_rate))"
   ]
  },
  {
   "cell_type": "markdown",
   "id": "98448e0c",
   "metadata": {},
   "source": [
    "#### Maximum Likelihood Method - Proportion of Cultures with Mutants"
   ]
  },
  {
   "cell_type": "code",
   "execution_count": 10,
   "id": "dead4e4f",
   "metadata": {},
   "outputs": [],
   "source": [
    "def mutation_rate_ML1(expected_population, mutant_population, num_simulations):\n",
    "    \"\"\"\n",
    "    Estimating mutation rate from Maximum Likelihood Method \n",
    "    Proportion of Cultures with Mutants\n",
    "    \n",
    "    Parameters:\n",
    "    expected_population: Total population for bacteria.\n",
    "    mutant_population: Total population of mutants.\n",
    "    num_simulations: Number of simulations.\n",
    "    \n",
    "    Return: mutation rate from Maximum Likelihood Method \n",
    "    Proportion of Cultures with Mutants\n",
    "    \"\"\"\n",
    "    X = 0\n",
    "    # count number of simultaions with no mutation\n",
    "    for k in mutant_population:\n",
    "        if k == 0:\n",
    "            X += 1\n",
    "    N = expected_population\n",
    "    C = num_simulations\n",
    "\n",
    "    return -np.log(X/C)/N"
   ]
  },
  {
   "cell_type": "code",
   "execution_count": 11,
   "id": "47a1ac19",
   "metadata": {},
   "outputs": [
    {
     "name": "stdout",
     "output_type": "stream",
     "text": [
      "Estimating mutation rate from Maximum Likelihood Method - Proportion of Cultures with Mutants =  0.00010045690109231654\n"
     ]
    }
   ],
   "source": [
    "print('Estimating mutation rate from Maximum Likelihood Method - Proportion of Cultures with Mutants = ', mutation_rate_ML1(expected_population, mutant_populations, num_simulations))"
   ]
  },
  {
   "cell_type": "markdown",
   "id": "7a3ef328",
   "metadata": {},
   "source": [
    "#### Maximum Likelihood Method - Full Mutant Distribution \n"
   ]
  },
  {
   "cell_type": "code",
   "execution_count": 16,
   "id": "32b28788",
   "metadata": {},
   "outputs": [
    {
     "name": "stderr",
     "output_type": "stream",
     "text": [
      "Running simulations: 100%|██████████████| 5000/5000 [00:00<00:00, 124054.40it/s]\n",
      "/var/folders/s3/bs4t_w8j12j88rywpg85yqr40000gn/T/ipykernel_19937/1349006584.py:33: DeprecationWarning: Conversion of an array with ndim > 0 to a scalar is deprecated, and will error in future. Ensure you extract a single element from your array before performing this operation. (Deprecated NumPy 1.25.)\n",
      "  pmf_func[0] = math.exp(m)\n",
      "/var/folders/s3/bs4t_w8j12j88rywpg85yqr40000gn/T/ipykernel_19937/1349006584.py:38: DeprecationWarning: Conversion of an array with ndim > 0 to a scalar is deprecated, and will error in future. Ensure you extract a single element from your array before performing this operation. (Deprecated NumPy 1.25.)\n",
      "  pmf_func[k] = sum\n"
     ]
    },
    {
     "name": "stdout",
     "output_type": "stream",
     "text": [
      "48158202.76535891\n",
      "48158202.69438148\n",
      "558317593.7345111\n",
      "558317593.7345111\n",
      "46163860.45172327\n",
      "46163860.382620335\n",
      "243708237.3958877\n",
      "243708239.85236448\n",
      "36518499.10233608\n",
      "36518499.06807292\n",
      "46203794.07320594\n",
      "46203794.28890625\n",
      "35450034.64772746\n",
      "35450034.64236275\n",
      "35433174.5094279\n",
      "35433174.51132834\n",
      "35430932.60735166\n",
      "35430932.60728166\n",
      "35430929.50962439\n",
      "35430929.509623565\n",
      "35430929.509153455\n",
      "35430929.50915343\n"
     ]
    }
   ],
   "source": [
    "def pmf_spec_yule(end_time, initial_population, growth_rate, count):\n",
    "    \"\"\"\n",
    "    The probability mass function (PMF) \n",
    "    for the Yule process\n",
    "    \n",
    "    Parameters:\n",
    "    end_time: Total time for population growth\n",
    "    initial_population: Starting population size\n",
    "    growth_rate: Growth rate of the population\n",
    "    count: Number of individuals in the population\n",
    "    \"\"\"\n",
    "    return np.exp(growth_rate * end_time) * (1 - betainc(2, count, np.exp(- growth_rate * end_time)))/(count*(count+1)*(np.exp(growth_rate * end_time) - 1))\n",
    "def pmf(end_time, initial_population, mu, growth_rate):\n",
    "    \"\"\"\n",
    "    Compute the PMF using cumulative intensity\n",
    "    \n",
    "    Parameters:\n",
    "    end_time: Total time for population growth  \n",
    "    initial_population: Starting population size  \n",
    "    mu: Mutation rate  \n",
    "    growth_rate: Growth rate of the population  \n",
    "\n",
    "    Returns:\n",
    "    pmf_func: Probability mass function (PMF) for mutant population size\n",
    "    \"\"\"\n",
    "    \n",
    "    # Cumulative intensity function\n",
    "    ci = cumulative_intensity(end_time, initial_population, mu, growth_rate)\n",
    "    pmf_func = np.zeros(2000)\n",
    "    pmf_func1 = np.zeros(2000)\n",
    "\n",
    "    m = - ci\n",
    "    pmf_func[0] = math.exp(m)\n",
    "    for k in range(1, 2000):\n",
    "        sum = 0\n",
    "        for i in range(0, k):\n",
    "            sum += ci * (k - i) / k * pmf_func[i] * pmf_spec_yule(end_time, initial_population, growth_rate, k - i)\n",
    "        pmf_func[k] = sum\n",
    "    return pmf_func\n",
    "\n",
    "def log_likelihood(mu, data, end_time, initial_population, growth_rate, h):\n",
    "    \"\"\"\n",
    "    Compute the log-likelihood for given mutation rate\n",
    "    \n",
    "    Parameters:\n",
    "    mu: Mutation rate  \n",
    "    data: Observed mutant population sizes  \n",
    "    end_time: Total time for population growth  \n",
    "    initial_population: Starting population size  \n",
    "    growth_rate: Growth rate of the population  \n",
    "    h: Histogram of mutant population counts  \n",
    "   \n",
    "    Returns:\n",
    "    Negative log-likelihood for optimization  \n",
    "    \"\"\"\n",
    "\n",
    "    pmf_func = pmf(end_time, initial_population,mu, growth_rate)\n",
    "    pmf_func = np.maximum(pmf_func, 1e-10)\n",
    "    likelihood = 0\n",
    "    for k in data:\n",
    "        if k < len(pmf_func):\n",
    "            likelihood += h[k] * np.log(pmf_func[k] + 1e-10)  # Add epsilon to avoid log(0)\n",
    "        else:\n",
    "            likelihood += -np.inf  # Assign very low likelihood for out-of-range data\n",
    "    print(-likelihood)\n",
    "    return -likelihood  # Return negative for minimization\n",
    "\n",
    "mutation_rate = [10 ** -4]\n",
    "num_simulations = 5000\n",
    "\n",
    "mut_rate = np.zeros(len(mutation_rate))\n",
    "\n",
    "for i in range(len(mutation_rate)):\n",
    "    # run simulation for each mutation rate\n",
    "    expected_mutant_population, variance_mutant_population, p0, expected_population, mutant_populations, final_populations = run_simulations(\n",
    "        num_simulations, end_time, initial_population, growth_rate, mutation_rate[i])\n",
    "    h = np.zeros(2000)\n",
    "    \n",
    "    for j in range(num_simulations):\n",
    "        for q in range(len(h)):\n",
    "            if q == mutant_populations[j]:\n",
    "                h[q] += 1\n",
    "    h_smooth = h[:2000] * num_simulations\n",
    "  \n",
    "    freq_m = gaussian_filter1d(h_smooth, sigma=0.45)\n",
    "\n",
    "    data = range(2000)\n",
    "    \n",
    "    # Choose initial guess\n",
    "    mu_initial = 10 ** (-5)\n",
    "\n",
    "    # Perform MLE using scipy.optimize.minimize\n",
    "    result = minimize(\n",
    "       lambda log_mu: log_likelihood(np.exp(log_mu), data, end_time, initial_population, growth_rate, freq_m),\n",
    "       x0=[np.log(mu_initial)],\n",
    "       bounds=[(np.log(1e-10), np.log(1))],  \n",
    "       method='L-BFGS-B'\n",
    "       )\n",
    "    mut_rate[i] = np.exp(result.x[0])\n"
   ]
  },
  {
   "cell_type": "code",
   "execution_count": 17,
   "id": "cda40a1b",
   "metadata": {},
   "outputs": [
    {
     "name": "stdout",
     "output_type": "stream",
     "text": [
      "Estimating mutation rate from Maximum Likelihood Method - Full Mutant Distribution =  0.00013047757950711714\n"
     ]
    }
   ],
   "source": [
    "print('Estimating mutation rate from Maximum Likelihood Method - Full Mutant Distribution = ', mut_rate[0])"
   ]
  },
  {
   "cell_type": "code",
   "execution_count": null,
   "id": "8dbf0d06",
   "metadata": {},
   "outputs": [],
   "source": []
  }
 ],
 "metadata": {
  "kernelspec": {
   "display_name": "Python 3 (ipykernel)",
   "language": "python",
   "name": "python3"
  },
  "language_info": {
   "codemirror_mode": {
    "name": "ipython",
    "version": 3
   },
   "file_extension": ".py",
   "mimetype": "text/x-python",
   "name": "python",
   "nbconvert_exporter": "python",
   "pygments_lexer": "ipython3",
   "version": "3.9.13"
  }
 },
 "nbformat": 4,
 "nbformat_minor": 5
}
