{
 "cells": [
  {
   "cell_type": "markdown",
   "id": "42f042fc",
   "metadata": {},
   "source": [
    "## Luria Delbruck Directed Mutations"
   ]
  },
  {
   "cell_type": "code",
   "execution_count": 7,
   "id": "8b21b03c",
   "metadata": {},
   "outputs": [],
   "source": [
    "import numpy as np\n",
    "import matplotlib.pyplot as plt\n",
    "from tqdm import tqdm\n",
    "\n",
    "def deterministic_growth_population(initial_population, initial_time, max_time, growth_rate):\n",
    "    \"\"\"\n",
    "    The population of sensitive bacterial cells at the end time.\n",
    "    \n",
    "    Parameters:\n",
    "    max_time: End time of the simulation.\n",
    "    initial_population: Initial population size.\n",
    "    growth_rate: Growth rate per individual.\n",
    "    \n",
    "    Returns:\n",
    "    the total populations at the end time.\n",
    "    \"\"\"\n",
    "    \n",
    "    # sensitive cells grow exponentially\n",
    "    return initial_population * np.exp(growth_rate*max_time)\n",
    "\n",
    "def mutations(end_time, initial_population, growth_rate, mutation_rate):\n",
    "    \"\"\"\n",
    "    Calculate dt and mutants\n",
    "    \n",
    "    Parameters:\n",
    "    end_time: The time at which to evaluate the population.\n",
    "    initial_population: The initial population size.\n",
    "    growth_rate: The growth rate of the population.\n",
    "    mutation_rate: Mutation rate per bacterium per unit time.\n",
    "    \n",
    "    Returns:\n",
    "    population: final population\n",
    "    mutants: total mutants\n",
    "    \"\"\"\n",
    "    # Calculate final population at the end time for original population\n",
    "    population = deterministic_growth_population(initial_population, 0, end_time, growth_rate)\n",
    "    \n",
    "    dt = np.random.exponential(1 / (population * growth_rate))\n",
    "    \n",
    "    mutants = np.random.binomial(population, mutation_rate * dt)\n",
    "    \n",
    "    return population, mutants\n",
    "\n",
    "def run_simulations(num_simulations, end_time, initial_population, growth_rate, mutation_rate):\n",
    "    \"\"\"\n",
    "    Run multiple simulations to calculate the expectation and variance of the final mutant population.\n",
    "    \n",
    "    Parameters:\n",
    "    num_simulations (int): The number of simulations to run.\n",
    "    end_time (float): The time at which to evaluate the population.\n",
    "    initial_population (int): The initial population size.\n",
    "    growth_rate (float): The growth rate of the population.\n",
    "    mutation_rate (float): Mutation rate per bacterium per unit time.\n",
    "    \n",
    "    Returns:\n",
    "    expected_mutant_population: Expected number of total mutant populations.\n",
    "    variance_mutant_population: Variance number of total mutant populations.\n",
    "    expected_population: Expected number of sensitive bacterial populations.\n",
    "    mutant_populations: List of number of total mutant populations for all simulations.\n",
    "    final_populations: List of number of sensitive bacterial populations for all simulations.\n",
    "    \"\"\"\n",
    "    final_populations = []\n",
    "    mutant_populations = []\n",
    "    no_mutation = 0\n",
    "    \n",
    "    for _ in tqdm(range(num_simulations), desc=\"Running simulations\"):\n",
    "        final_population, mutants = mutations(end_time, initial_population, growth_rate, mutation_rate)\n",
    "        final_populations.append(final_population)\n",
    "        mutant_populations.append(mutants)\n",
    "    \n",
    "    expected_mutant_population = np.mean(mutant_populations)\n",
    "    variance_mutant_population = np.var(mutant_populations)\n",
    "    expected_population = np.mean(final_populations)\n",
    "    \n",
    "    return expected_mutant_population, variance_mutant_population, expected_population, mutant_populations, final_populations\n"
   ]
  },
  {
   "cell_type": "code",
   "execution_count": 9,
   "id": "dd0cb26c",
   "metadata": {},
   "outputs": [
    {
     "name": "stderr",
     "output_type": "stream",
     "text": [
      "Running simulations: 100%|████████| 1000000/1000000 [00:02<00:00, 426584.39it/s]\n"
     ]
    },
    {
     "name": "stdout",
     "output_type": "stream",
     "text": [
      "expected mutants =  9.9e-05\n",
      "variance of mutants =  9.899019899999995e-05\n"
     ]
    }
   ],
   "source": [
    "if __name__ == \"__main__\":\n",
    "    end_time = 10\n",
    "    initial_population = 1\n",
    "    growth_rate = 1\n",
    "    mutation_rate = 0.0001\n",
    "    num_simulations = 1000000\n",
    "    \n",
    "    expected_mutant_population, variance_mutant_population, expected_population, mutant_populations, final_populations = run_simulations(num_simulations, end_time, initial_population, growth_rate, mutation_rate)\n",
    "    \n",
    "print('expected mutants = ', expected_mutant_population)\n",
    "print('variance of mutants = ', variance_mutant_population)"
   ]
  },
  {
   "cell_type": "code",
   "execution_count": null,
   "id": "b1e7f7ba",
   "metadata": {},
   "outputs": [],
   "source": []
  }
 ],
 "metadata": {
  "kernelspec": {
   "display_name": "Python 3 (ipykernel)",
   "language": "python",
   "name": "python3"
  },
  "language_info": {
   "codemirror_mode": {
    "name": "ipython",
    "version": 3
   },
   "file_extension": ".py",
   "mimetype": "text/x-python",
   "name": "python",
   "nbconvert_exporter": "python",
   "pygments_lexer": "ipython3",
   "version": "3.9.13"
  }
 },
 "nbformat": 4,
 "nbformat_minor": 5
}
